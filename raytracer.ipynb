{
 "cells": [
  {
   "cell_type": "code",
   "execution_count": 1,
   "metadata": {},
   "outputs": [],
   "source": [
    "import numpy as np\n",
    "import matplotlib.pylab as plt\n",
    "import cv2 as cv\n",
    "\n",
    "from ipywidgets import interact, interactive, fixed, interact_manual, SelectionSlider, FloatSlider\n",
    "import ipywidgets as widgets\n",
    "import matplotlib.pyplot as plt\n",
    "import matplotlib.gridspec as gridspec\n",
    "import seaborn as sns\n",
    "\n",
    "%matplotlib inline\n",
    "from raytracing_lib import *\n",
    "plt.style.use('seaborn-whitegrid')"
   ]
  },
  {
   "cell_type": "code",
   "execution_count": 2,
   "metadata": {},
   "outputs": [],
   "source": [
    "# sellmeier refractive coefficients\n",
    "materials = dict()\n",
    "materials['BK7'] = [1.03961212, 0.00600069867, 0.231792344, 0.0200179144, 1.01046945, 103.560653]\n",
    "materials['SSK2'] = [1.4306027, 0.00823982975, 0.153150554, 0.0333736841, 1.01390904, 106.870822]\n",
    "materials['SF57'] = [1.81651371, 0.0143704198, 0.428893641, 0.0592801172, 1.07186278, 121.419942]"
   ]
  },
  {
   "cell_type": "code",
   "execution_count": 7,
   "metadata": {},
   "outputs": [],
   "source": [
    "def plot_refractive_lenses(pos_ls_x, pos_ls_y, n_rays, alpha, sensor_position, sensor_height, sensor_size):\n",
    "    global sensor_pos_global\n",
    "    sensor_pos_global = sensor_position\n",
    "    # prepare plots  \n",
    "    fig = plt.figure(figsize=(30, 10), dpi=90)\n",
    "    gs = gridspec.GridSpec(ncols=5, nrows=3, figure=fig)\n",
    "    ax = fig.add_subplot(gs[0:3,0:4]) \n",
    "    ax2 = fig.add_subplot(gs[1,4]) \n",
    "    ax.set_facecolor((90/255, 90/255, 90/255))\n",
    "    ax.grid(color=(0/255,0/255,0/255), linewidth=1, alpha=0.1)\n",
    "    \n",
    "    # find the max lens height\n",
    "    global lenses\n",
    "    max_lens_height = 0\n",
    "    for lens in lenses:\n",
    "        if lens.height > max_lens_height:\n",
    "            max_lens_height = lens.height\n",
    "\n",
    "    # set figure limits accordingly\n",
    "    ax.set_xlim(-10,(sensor_position + 1))\n",
    "    ax.set_ylim(-(max_lens_height + 2),(max_lens_height + 2))\n",
    "    ax.set_aspect(1)\n",
    "\n",
    "    #plot sensor\n",
    "    ax.plot([sensor_position, sensor_position],[sensor_height-sensor_size, sensor_height+sensor_size],'k', linewidth=3)\n",
    "\n",
    "    # draw lenses\n",
    "    for lens in lenses:\n",
    "        lens.plot(ax)\n",
    "\n",
    "    # calculate angle gamma between rays\n",
    "    # beta = np.arctan2(pos_ls_y, lenses[0].start_pos - pos_ls_x) #aim on middle of first surface\n",
    "    beta = np.arctan2(pos_ls_y, (lenses[0].start_pos + lenses[-1].end_pos) / 2 - pos_ls_x) #aim on middle of lens group\n",
    "    if n_rays > 1:\n",
    "        gamma = (2 * alpha)/(n_rays - 1)\n",
    "        one_ray_angle = 0\n",
    "    else:\n",
    "        gamma = 0\n",
    "        one_ray_angle = alpha\n",
    "\n",
    "    # create container for all rays\n",
    "    global rays\n",
    "    rays = []     \n",
    "    rays.clear() \n",
    "\n",
    "    # generate ray objects\n",
    "    for wl in wavelengths:\n",
    "        for i in range(int(n_rays)):\n",
    "            angle = alpha - i * gamma - beta - one_ray_angle         \n",
    "            rays.append(C_ray(pos_ls_x, pos_ls_y, wl, n_environment, angle=angle)) \n",
    "\n",
    "    # raytracing\n",
    "    rays, intersections = raytracing(sensor_position, lenses, rays, n_environment, continue_ray_whithout_intersection=False)\n",
    "\n",
    "    # plot rays and intersections\n",
    "    for ray in rays:\n",
    "            ax.plot(ray.x, ray.y, color=wavelength_to_rgb(ray.wavelength*1e9), linewidth=1)\n",
    "    # for Intersection in intersections:\n",
    "    #         ax.plot(Intersection[0], Intersection[1], Intersection[2], color=Intersection[3])\n",
    "\n",
    "    # plot light source\n",
    "    ax.plot(pos_ls_x,pos_ls_y, 'o', color=(255/255,200/255,0/255))   \n",
    "\n",
    "\n",
    "    #plot sensor\n",
    "    if len(wavelengths) == 3:\n",
    "        sensor_color1_data= []\n",
    "        sensor_color2_data= []\n",
    "        sensor_color3_data= []\n",
    "        for ray in rays:\n",
    "            if np.isclose(ray.x[-1], sensor_pos_global):\n",
    "                if ray.wavelength == wavelengths[0]:\n",
    "                    sensor_color1_data.append(ray.y[-1])\n",
    "                elif ray.wavelength == wavelengths[1]:\n",
    "                    sensor_color2_data.append(ray.y[-1])\n",
    "                elif ray.wavelength == wavelengths[2]:\n",
    "                    sensor_color3_data.append(ray.y[-1])\n",
    "                else:\n",
    "                    print(\"ERROR while plotting sensor\")\n",
    "        sns.set_style('whitegrid')\n",
    "        bw_method = 0.175\n",
    "        sns.kdeplot(sensor_color1_data, bw_method=bw_method, ax=ax2, color=wavelength_to_rgb(wavelengths[0]*1e9))\n",
    "        sns.kdeplot(sensor_color2_data, bw_method=bw_method, ax=ax2, color=wavelength_to_rgb(wavelengths[1]*1e9))\n",
    "        sns.kdeplot(sensor_color3_data, bw_method=bw_method, ax=ax2, color=wavelength_to_rgb(wavelengths[2]*1e9))\n",
    "        ax2.set_facecolor((90/255, 90/255, 90/255))\n",
    "        ax2.grid(color=(0/255,0/255,0/255), linewidth=1, alpha=0.1)\n",
    "        ax2.set_xlim(sensor_height-sensor_size, sensor_height+sensor_size)\n",
    "    else:\n",
    "        sensor_x_data = []\n",
    "        sensor_x_data.clear()\n",
    "        for ray in rays:\n",
    "            if np.isclose(ray.x[-1], sensor_pos_global):\n",
    "                sensor_x_data.append(ray.y[-1])\n",
    "        sns.set_style('whitegrid')\n",
    "        sns.kdeplot(sensor_x_data, bw_method=0.1, ax=ax2, color = 'orange')\n",
    "        ax2.set_facecolor((90/255, 90/255, 90/255))\n",
    "        ax2.grid(color=(0/255,0/255,0/255), linewidth=1, alpha=0.1)\n",
    "        ax2.set_xlim(sensor_height-sensor_size, sensor_height+sensor_size)\n",
    "\n",
    "    plt.show()"
   ]
  },
  {
   "cell_type": "markdown",
   "metadata": {},
   "source": [
    "# 90mm Linsensystem\n",
    "300;125mm:   Gemäss Linsengleichung 90.14mm mit d = 9mm\n",
    "\n",
    "75;-400mm:   Gemäss Linsengleichung 90.09mm mit d = 8mm\n",
    "\n",
    "1000;100mm:  Gemäss Linsengleichung 91.3mm mit d = 5mm"
   ]
  },
  {
   "cell_type": "code",
   "execution_count": 29,
   "metadata": {},
   "outputs": [
    {
     "data": {
      "application/vnd.jupyter.widget-view+json": {
       "model_id": "a44da387d7e848dca0cf1bb0a8911b05",
       "version_major": 2,
       "version_minor": 0
      },
      "text/plain": [
       "interactive(children=(FloatSlider(value=-10000000000.0, description='pos_ls_x', max=-17.602941176470587, min=-…"
      ]
     },
     "metadata": {},
     "output_type": "display_data"
    }
   ],
   "source": [
    "wavelengths = [587.6e-9]\n",
    "n_environment = 1 # air\n",
    "\n",
    "f_exp = 90\n",
    "\n",
    "# lens groups\n",
    "R = 25.4/2\n",
    "lr300 = 308.6\n",
    "d300 = 2.5\n",
    "lr125 = 128.2\n",
    "d125 = 2.3\n",
    "\n",
    "d = 9\n",
    "\n",
    "lens_pos = d300/2 + d / 425 * 300\n",
    "\n",
    "LG1 = C_lens_group(-lens_pos, lr300, -lr300, d300, materials['BK7'], R)\n",
    "LG1.add_lens(d-d300/2-d125/2, lr125, -lr125, d125, materials['BK7'], R)\n",
    "\n",
    "#concatonate all lens groups\n",
    "lenses = LG1.lenses\n",
    "sensor_position = lenses[-1].start_pos + lenses[-1].d + 100\n",
    "\n",
    "inter = interact(plot_refractive_lenses,\n",
    "    pos_ls_x=FloatSlider(value = -10000000000, min=-10000000000, max=lenses[0].start_pos-10, step=0.01),\n",
    "    pos_ls_y=FloatSlider(value = 0, min=-26, max=26, step=0.001),\n",
    "    n_rays=FloatSlider(value = 2, min=2, max=200, step=1),\n",
    "    alpha=FloatSlider(value = 0.0000000001, min=0.0000000001, max=0.001, step=0.00001),\n",
    "    sensor_position=FloatSlider(value=f_exp, min=f_exp-2, max=f_exp+2, step=0.001),\n",
    "    sensor_height=FloatSlider(value=0, min=-1.35, max=1.35, step=0.01),\n",
    "    sensor_size=FloatSlider(value=0.001, min=0.001, max=1, step=0.001))"
   ]
  },
  {
   "cell_type": "code",
   "execution_count": 16,
   "metadata": {},
   "outputs": [
    {
     "data": {
      "application/vnd.jupyter.widget-view+json": {
       "model_id": "f274ff3bf0ad43fb8153f4957fb6e868",
       "version_major": 2,
       "version_minor": 0
      },
      "text/plain": [
       "interactive(children=(FloatSlider(value=35.0, description='pos_ls_x', max=140.0, min=-50000.0, step=0.01), Flo…"
      ]
     },
     "metadata": {},
     "output_type": "display_data"
    }
   ],
   "source": [
    "wavelengths = np.linspace(450e-9,650e-9,3)\n",
    "n_environment = 1 # air\n",
    "\n",
    "# lens groups\n",
    "LG1 = C_lens_group(150, 411.7, -411.7, 2.4, materials['BK7'], 25.4/2)\n",
    "LG1.add_lens(3.5, -52, 52, 3, materials['BK7'], 25.4/2)\n",
    "LG1.add_lens(4, 34.9, -34.9, 6.8, materials['BK7'], 25.4/2)\n",
    "\n",
    "#concatonate all lens groups\n",
    "lenses = LG1.lenses\n",
    "sensor_position = lenses[-1].start_pos + lenses[-1].d + 100\n",
    "\n",
    "inter = interact(plot_refractive_lenses,\n",
    "    pos_ls_x=FloatSlider(value = 35, min=-50000, max=lenses[0].start_pos-10, step=0.01),\n",
    "    pos_ls_y=FloatSlider(value = 10, min=-26, max=26, step=0.001),\n",
    "    n_rays=FloatSlider(value = 50, min=2, max=200, step=1),\n",
    "    alpha=FloatSlider(value = 0.03, min=0.001, max=0.1, step=0.001),\n",
    "    # sensor_position=FloatSlider(value=sensor_position, min=sensor_position-50, max=sensor_position+50, step=0.1),\n",
    "    sensor_position=FloatSlider(value=305, min=300-50, max=320, step=0.1),\n",
    "    sensor_height=FloatSlider(value=-10, min=-15, max=1.35, step=0.01),\n",
    "    sensor_size=FloatSlider(value=0.5, min=0.01, max=5, step=0.01))"
   ]
  },
  {
   "cell_type": "code",
   "execution_count": 11,
   "metadata": {},
   "outputs": [
    {
     "data": {
      "application/vnd.jupyter.widget-view+json": {
       "model_id": "e7dc7180dd63488499674244a394f9f4",
       "version_major": 2,
       "version_minor": 0
      },
      "text/plain": [
       "interactive(children=(FloatSlider(value=-10000000000.0, description='pos_ls_x', max=-11.3, min=-10000000000.0,…"
      ]
     },
     "metadata": {},
     "output_type": "display_data"
    }
   ],
   "source": [
    "# wavelengths = np.linspace(450e-9,650e-9,3)\n",
    "wavelengths = [587.6e-9]\n",
    "n_environment = 1 # air\n",
    "\n",
    "# # lens groups\n",
    "# LG1 = C_lens_group(-10, 411.7, -411.7, 2.4, materials['BK7'], 25.4/2)\n",
    "# LG1.add_lens(4, -52, 52, 3, materials['BK7'], 25.4/2)\n",
    "# LG1.add_lens(5, 34.9, -34.9, 6.8, materials['BK7'], 25.4/2)\n",
    "\n",
    "# # lens groups\n",
    "# LG1 = C_lens_group(-2.6/2, 128.8, -10000000000, 2.6, materials['BK7'], 25.4/2)\n",
    "# LG1.add_lens(0, 10000000000, -128.8, 2.6, materials['BK7'], 25.4/2)\n",
    "\n",
    "# lens groups\n",
    "r_lens = 257.1\n",
    "LG1 = C_lens_group(-2.6/2, r_lens, -r_lens, 2.6, materials['BK7'], 25.4/2)\n",
    "LG1.add_lens(0, r_lens, -r_lens, 2.6, materials['BK7'], 25.4/2)\n",
    "\n",
    "#concatonate all lens groups\n",
    "lenses = LG1.lenses\n",
    "sensor_position = lenses[-1].start_pos + lenses[-1].d + 75\n",
    "\n",
    "inter = interact(plot_refractive_lenses,\n",
    "    pos_ls_x=FloatSlider(value = -10000000000, min=-10000000000, max=lenses[0].start_pos-10, step=0.01),\n",
    "    pos_ls_y=FloatSlider(value = 0, min=-26, max=26, step=0.001),\n",
    "    n_rays=FloatSlider(value = 200, min=2, max=200, step=1),\n",
    "    alpha=FloatSlider(value = 0.0000000001, min=0.0000000001, max=0.001, step=0.00001),\n",
    "    # sensor_position=FloatSlider(value=sensor_position, min=sensor_position-20, max=sensor_position+10, step=0.1),\n",
    "    sensor_position=FloatSlider(value=124, min=126, max=128, step=0.01),\n",
    "    sensor_height=FloatSlider(value=0, min=-1.35, max=1.35, step=0.01),\n",
    "    sensor_size=FloatSlider(value=0.001, min=0.001, max=1, step=0.001))"
   ]
  },
  {
   "cell_type": "code",
   "execution_count": null,
   "metadata": {},
   "outputs": [],
   "source": [
    "radius = 5\n",
    "wavelengths = np.linspace(450e-9,650e-9,3)\n",
    "\n",
    "n_environment = 1 # air\n",
    "\n",
    "mat1 = 'SSK2'\n",
    "mat2 = 'BK7'\n",
    "mat3 = 'SF57'\n",
    "\n",
    "pos_focus_lens_group = 0\n",
    "max_lens_height = 6\n",
    "\n",
    "# lens groups\n",
    "LG1 = C_lens_group(5, 11, 30, 1.5, materials[mat1], max_lens_height)\n",
    "LG1.add_lens(0.3, 33, 8, 0.5, materials[mat2], 0.9*max_lens_height)\n",
    "\n",
    "LG2 = C_lens_group(LG1.group_end_pos + 3.4 + pos_focus_lens_group, -13, -5.5, 2, materials[mat1], 0.78*max_lens_height)\n",
    "LG2.add_lens(0, -5.5, 10, 0.3, materials[mat2], 0.78*max_lens_height)\n",
    "LG2.add_lens(0, 10, -16, 2, materials[mat3], 0.78*max_lens_height)\n",
    "\n",
    "LG3 = C_lens_group(LG2.group_end_pos + 2 - pos_focus_lens_group, 13, 23, 0.6, materials[mat1], 0.7*max_lens_height)\n",
    "LG3.add_lens(0, 11, -14, 1.5, materials[mat1], 0.66*max_lens_height)\n",
    "LG3.add_lens(0, -14, 9, 0.15, materials[mat3], 0.66*max_lens_height)\n",
    "\n",
    "LG4 = C_lens_group(LG3.group_end_pos + 2.2, -7, 13, 0.15, materials[mat3], 0.55*max_lens_height)\n",
    "LG4.add_lens(0, 13, -11, 1.2, materials[mat1], 0.55*max_lens_height)\n",
    "LG4.add_lens(0, -30, -8, 0.8, materials[mat1], 0.55*max_lens_height)\n",
    "LG4.add_lens(0, -8, -50, 0.15, materials[mat3], 0.55*max_lens_height)\n",
    "LG4.add_lens(0, 20, -8, 1.3, materials[mat1], 0.55*max_lens_height)\n",
    "\n",
    "#concatonate all lens groups\n",
    "lenses = LG1.lenses + LG2.lenses + LG3.lenses + LG4.lenses\n",
    "sensor_position = lenses[-1].start_pos +lenses[-1].d + 16.8\n",
    " \n",
    "inter = interact(plot_refractive_lenses,\n",
    "    pos_ls_x=FloatSlider(value = -155, min=-300, max=lenses[0].start_pos-0.5, step=0.01),\n",
    "    pos_ls_y=FloatSlider(value = 0, min=-2*radius, max=2*radius, step=0.001),\n",
    "    n_rays=FloatSlider(value = 31, min=2, max=150, step=1),\n",
    "    alpha=FloatSlider(value = 0.02, min=0.01, max=0.04, step=0.001),\n",
    "    sensor_position=FloatSlider(value=sensor_position, min=sensor_position-3, max=sensor_position+10, step=0.1),\n",
    "    sensor_height=FloatSlider(value=0, min=-1.35, max=1.35, step=0.01),\n",
    "    sensor_size=FloatSlider(value=0.25, min=0.1, max=2, step=0.05))"
   ]
  },
  {
   "cell_type": "code",
   "execution_count": null,
   "metadata": {},
   "outputs": [],
   "source": []
  }
 ],
 "metadata": {
  "interpreter": {
   "hash": "ddb7243c9db1d51e93fbafbec19d80c69330166b04abc877694c5b6778182152"
  },
  "kernelspec": {
   "display_name": "Python 3.9.2 64-bit",
   "name": "python3"
  },
  "language_info": {
   "codemirror_mode": {
    "name": "ipython",
    "version": 3
   },
   "file_extension": ".py",
   "mimetype": "text/x-python",
   "name": "python",
   "nbconvert_exporter": "python",
   "pygments_lexer": "ipython3",
   "version": "3.8.6"
  },
  "metadata": {
   "interpreter": {
    "hash": "531a04f440cf44a2de0fa43f6e4aca3a770546f6433d87f95624af8693030211"
   }
  },
  "orig_nbformat": 2
 },
 "nbformat": 4,
 "nbformat_minor": 2
}
